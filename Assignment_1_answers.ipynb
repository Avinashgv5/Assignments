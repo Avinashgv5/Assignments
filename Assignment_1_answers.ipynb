{
 "cells": [
  {
   "cell_type": "markdown",
   "id": "1893678a",
   "metadata": {},
   "source": [
    "# 1). In the below elements which of them are values or an expression? eg:- values can be integer or string and expressions will be mathematical operators.\n",
    "\n",
    "*  \n",
    "'hello'\n",
    "-87.8\n",
    "-\n",
    "/\n",
    "+\n",
    "6"
   ]
  },
  {
   "cell_type": "markdown",
   "id": "3966112d",
   "metadata": {},
   "source": [
    "#Answer\n",
    "\n",
    "*  Is an operators\n",
    "'hello' Is a value\n",
    "-87.8 Is a value\n",
    "- Is an operators\n",
    "/ Is an operators\n",
    "+ Is an operators\n",
    "6 Is a value"
   ]
  },
  {
   "cell_type": "markdown",
   "id": "d3e26306",
   "metadata": {},
   "source": [
    "# 2) What is the difference between string and variable?"
   ]
  },
  {
   "cell_type": "code",
   "execution_count": null,
   "id": "747e7961",
   "metadata": {},
   "outputs": [],
   "source": [
    "# Answer:\n",
    "String is a text data enclosed with single or double quotes\n",
    "Variable is used to stor data such as string,float,intiger,list, tuple etc"
   ]
  },
  {
   "cell_type": "markdown",
   "id": "94ea977d",
   "metadata": {},
   "source": [
    "# 3) Describe three different data types."
   ]
  },
  {
   "cell_type": "code",
   "execution_count": null,
   "id": "8932fe75",
   "metadata": {},
   "outputs": [],
   "source": [
    "# Answer:\n",
    "integer is one type of data, which represent positive or nigative whole numbers.\n",
    "flaot is one type of data, which represent real numbers with including decimal places.\n",
    "boolean is one type of data, which represent based on logic of true or false condition.\n"
   ]
  },
  {
   "cell_type": "markdown",
   "id": "529c5188",
   "metadata": {},
   "source": [
    "# 4) What is an expression made up of? What do all expressions do?"
   ]
  },
  {
   "cell_type": "code",
   "execution_count": null,
   "id": "56964207",
   "metadata": {},
   "outputs": [],
   "source": [
    "expression is made up of operators and operands. expression helps to give some value based on operators and operand"
   ]
  },
  {
   "cell_type": "markdown",
   "id": "a2a9fdc5",
   "metadata": {},
   "source": [
    "# 5) This assignment statements, like spam = 10. What is the difference between an expression and a statement?"
   ]
  },
  {
   "cell_type": "code",
   "execution_count": null,
   "id": "edca5a21",
   "metadata": {},
   "outputs": [],
   "source": [
    "expression is helps to produce an value, statement is helps to perform action. every statement can be a expression but every expression can't be a statement"
   ]
  },
  {
   "cell_type": "markdown",
   "id": "1953c8c0",
   "metadata": {},
   "source": [
    "# 6. After running the following code, what does the variable bacon contain?\n",
    " bacon = 22\n",
    " bacon +1"
   ]
  },
  {
   "cell_type": "code",
   "execution_count": 18,
   "id": "0acb5659",
   "metadata": {},
   "outputs": [],
   "source": [
    "bacon=22\n"
   ]
  },
  {
   "cell_type": "code",
   "execution_count": 19,
   "id": "2c06359d",
   "metadata": {},
   "outputs": [
    {
     "data": {
      "text/plain": [
       "23"
      ]
     },
     "execution_count": 19,
     "metadata": {},
     "output_type": "execute_result"
    }
   ],
   "source": [
    "bacon+1"
   ]
  },
  {
   "cell_type": "code",
   "execution_count": null,
   "id": "a36812f6",
   "metadata": {},
   "outputs": [],
   "source": [
    "bacon=22 which assigned value 22 to bacon, but bacon+1 which needs bacon=bacon+1 assigned statement for assigning bacon"
   ]
  },
  {
   "cell_type": "markdown",
   "id": "317a88ef",
   "metadata": {},
   "source": [
    "# 7. What should the values of the following two terms be?\n",
    "'spam'+'spamspam'\n",
    "'spam'*3"
   ]
  },
  {
   "cell_type": "code",
   "execution_count": 15,
   "id": "a38cb72b",
   "metadata": {},
   "outputs": [
    {
     "data": {
      "text/plain": [
       "'spamspamspam'"
      ]
     },
     "execution_count": 15,
     "metadata": {},
     "output_type": "execute_result"
    }
   ],
   "source": [
    "#Answer\n",
    "'spam'+'spamspam'\n"
   ]
  },
  {
   "cell_type": "code",
   "execution_count": 16,
   "id": "f8cbfa34",
   "metadata": {},
   "outputs": [
    {
     "data": {
      "text/plain": [
       "'spamspamspam'"
      ]
     },
     "execution_count": 16,
     "metadata": {},
     "output_type": "execute_result"
    }
   ],
   "source": [
    "'spam'*3"
   ]
  },
  {
   "cell_type": "raw",
   "id": "f765e324",
   "metadata": {},
   "source": [
    " both above expression giving same result"
   ]
  },
  {
   "cell_type": "markdown",
   "id": "533bcb46",
   "metadata": {},
   "source": [
    "# 8. Why is eggs a valid variable name while 100 is invalid?"
   ]
  },
  {
   "cell_type": "raw",
   "id": "c5167676",
   "metadata": {},
   "source": [
    "# Answer\n",
    "because variable name should not start with numbers"
   ]
  },
  {
   "cell_type": "markdown",
   "id": "5a266281",
   "metadata": {},
   "source": [
    "# 9. What three functions can be used to get the integer, floating-point number, or string version of a value?"
   ]
  },
  {
   "cell_type": "code",
   "execution_count": 20,
   "id": "eee71d32",
   "metadata": {},
   "outputs": [
    {
     "data": {
      "text/plain": [
       "2"
      ]
     },
     "execution_count": 20,
     "metadata": {},
     "output_type": "execute_result"
    }
   ],
   "source": [
    "#Answer:\n",
    "int(2),float() and str( )"
   ]
  },
  {
   "cell_type": "markdown",
   "id": "3e555d02",
   "metadata": {},
   "source": [
    "# 10. Why does this expression cause an error? How can you fix it?\n",
    "'I have eaten'+99+'burritos'"
   ]
  },
  {
   "cell_type": "raw",
   "id": "20dd59fa",
   "metadata": {},
   "source": [
    "#Answer \n",
    "string should concatenate with string only"
   ]
  },
  {
   "cell_type": "code",
   "execution_count": 23,
   "id": "9b65a246",
   "metadata": {},
   "outputs": [
    {
     "data": {
      "text/plain": [
       "'I have eaten99burritos'"
      ]
     },
     "execution_count": 23,
     "metadata": {},
     "output_type": "execute_result"
    }
   ],
   "source": [
    "#fix\n",
    "'I have eaten'+str(99)+'burritos'"
   ]
  },
  {
   "cell_type": "code",
   "execution_count": null,
   "id": "c3d046e9",
   "metadata": {},
   "outputs": [],
   "source": []
  }
 ],
 "metadata": {
  "kernelspec": {
   "display_name": "Python 3 (ipykernel)",
   "language": "python",
   "name": "python3"
  },
  "language_info": {
   "codemirror_mode": {
    "name": "ipython",
    "version": 3
   },
   "file_extension": ".py",
   "mimetype": "text/x-python",
   "name": "python",
   "nbconvert_exporter": "python",
   "pygments_lexer": "ipython3",
   "version": "3.9.12"
  }
 },
 "nbformat": 4,
 "nbformat_minor": 5
}
