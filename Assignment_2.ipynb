{
 "cells": [
  {
   "cell_type": "markdown",
   "id": "be10bf62",
   "metadata": {},
   "source": [
    "# 1.What are the two values of the Boolean data type? How do you write them?"
   ]
  },
  {
   "cell_type": "markdown",
   "id": "6b337c05",
   "metadata": {},
   "source": [
    "Answer:  True and False"
   ]
  },
  {
   "cell_type": "markdown",
   "id": "9f70857e",
   "metadata": {},
   "source": [
    "# 2. What are the three different types of Boolean operators?"
   ]
  },
  {
   "cell_type": "markdown",
   "id": "7b8d51fe",
   "metadata": {},
   "source": [
    "Answer: AND , OR, NOT"
   ]
  },
  {
   "cell_type": "markdown",
   "id": "87cf67a5",
   "metadata": {},
   "source": [
    "# 3. Make a list of each Boolean operator&#39;s truth tables (i.e. every possible combination of Boolean values for the operator and what it evaluate )."
   ]
  },
  {
   "cell_type": "raw",
   "id": "01368360",
   "metadata": {},
   "source": [
    "\n",
    "Answer:\n",
    "\n",
    "AND operator Truth table as below:\n",
    "\n",
    "A\t     B\t    Result\n",
    "TRUE\tFALSE\tFALSE\n",
    "TRUE\tTRUE\tTRUE\n",
    "FALSE\tTRUE\tFALSE\n",
    "FALSE\tFALSE\tFALSE\n",
    "\n",
    "\n",
    "\n",
    "OR operator Truth table as below:\n",
    "\n",
    "\n",
    "A\t     B\t   Result\n",
    "TRUE\tFALSE\tTRUE\n",
    "TRUE\tTRUE\tTRUE\n",
    "FALSE\tTRUE\tTRUE\n",
    "FALSE\tFALSE\tFALSE\n",
    "\n",
    "\n",
    "NOT operator gives true as false and false as true result\n",
    "\n",
    "\n",
    "\n",
    "\n",
    "\n",
    "\n",
    "\n",
    "\n",
    "\n",
    "\n",
    "\n"
   ]
  },
  {
   "cell_type": "markdown",
   "id": "e8e27872",
   "metadata": {},
   "source": [
    "# 4. What are the values of the following expressions"
   ]
  },
  {
   "cell_type": "code",
   "execution_count": 8,
   "id": "c47ea5fb",
   "metadata": {},
   "outputs": [],
   "source": [
    "(5>4) and (3==5)\n",
    "Answer: False\n",
    "\n",
    "not(5>4)\n",
    "Answer: False\n",
    "    \n",
    "not ((5>4) or (3==5))\n",
    "Answer: True\n",
    "    \n",
    "(True and True) and (True == False)\n",
    "Answer: False\n",
    "    \n",
    "(not False) or (not True)\n",
    "Answer: True"
   ]
  },
  {
   "cell_type": "code",
   "execution_count": 9,
   "id": "946fe164",
   "metadata": {},
   "outputs": [
    {
     "data": {
      "text/plain": [
       "False"
      ]
     },
     "execution_count": 9,
     "metadata": {},
     "output_type": "execute_result"
    }
   ],
   "source": [
    "(5>4) and (3==5)"
   ]
  },
  {
   "cell_type": "code",
   "execution_count": 10,
   "id": "bcbafdde",
   "metadata": {},
   "outputs": [
    {
     "data": {
      "text/plain": [
       "False"
      ]
     },
     "execution_count": 10,
     "metadata": {},
     "output_type": "execute_result"
    }
   ],
   "source": [
    "not(5>4)"
   ]
  },
  {
   "cell_type": "code",
   "execution_count": 11,
   "id": "c787f368",
   "metadata": {},
   "outputs": [
    {
     "data": {
      "text/plain": [
       "True"
      ]
     },
     "execution_count": 11,
     "metadata": {},
     "output_type": "execute_result"
    }
   ],
   "source": [
    "(5>4) or (3==5)"
   ]
  },
  {
   "cell_type": "code",
   "execution_count": 12,
   "id": "0378fddd",
   "metadata": {},
   "outputs": [
    {
     "data": {
      "text/plain": [
       "False"
      ]
     },
     "execution_count": 12,
     "metadata": {},
     "output_type": "execute_result"
    }
   ],
   "source": [
    "not ((5>4) or (3==5))"
   ]
  },
  {
   "cell_type": "code",
   "execution_count": 13,
   "id": "55deffc7",
   "metadata": {},
   "outputs": [
    {
     "data": {
      "text/plain": [
       "False"
      ]
     },
     "execution_count": 13,
     "metadata": {},
     "output_type": "execute_result"
    }
   ],
   "source": [
    "(True and True) and (True == False)"
   ]
  },
  {
   "cell_type": "code",
   "execution_count": 14,
   "id": "f4cfad68",
   "metadata": {},
   "outputs": [
    {
     "data": {
      "text/plain": [
       "True"
      ]
     },
     "execution_count": 14,
     "metadata": {},
     "output_type": "execute_result"
    }
   ],
   "source": [
    "(not False) or (not True)"
   ]
  },
  {
   "cell_type": "raw",
   "id": "3bdbfd33",
   "metadata": {},
   "source": [
    "# 5. What are the six comparison operators?\n",
    "\n",
    "Answer: Less than (<)\n",
    "        Greater than (>)\n",
    "        Less than or equal to (<=)\n",
    "        Greater than or equal to (>=)\n",
    "        Equal to (==)\n",
    "        Not equal to (!=)"
   ]
  },
  {
   "cell_type": "markdown",
   "id": "3130847c",
   "metadata": {},
   "source": [
    "# 6. How do you tell the difference between the equal to and assignment operators?Describe a\n",
    "condition and when you would use one.\n",
    "\n",
    "Answer:  = equal is used for assigning some value to variable and == assignment operator is used for comparing two operands."
   ]
  },
  {
   "cell_type": "markdown",
   "id": "bc1fbbc6",
   "metadata": {},
   "source": [
    "7. Identify the three blocks in this code:"
   ]
  },
  {
   "cell_type": "raw",
   "id": "9528e3f1",
   "metadata": {},
   "source": [
    "Answer: \n",
    "\n",
    "\n",
    "spam = 0\n",
    "\n",
    "# Block 1\n",
    "if spam == 10:\n",
    "    \n",
    "    \n",
    "    print(\"eggs\")\n",
    "\n",
    "\n",
    "# Block 2\n",
    "if spam>5:\n",
    "    print(\"bacon\")\n",
    "\n",
    "\n",
    "# Block 3 \n",
    "else:\n",
    "        \n",
    "    print(\"ham\")\n",
    "    print(\"spam\")\n",
    "    print(\"spam\")"
   ]
  },
  {
   "cell_type": "markdown",
   "id": "89f47408",
   "metadata": {},
   "source": [
    "8. Write code that prints Hello if 1 is stored in spam, prints Howdy if 2 is stored in spam, and prints\n",
    "Greetings! if anything else is stored in spam."
   ]
  },
  {
   "cell_type": "code",
   "execution_count": 49,
   "id": "cb73ab70",
   "metadata": {},
   "outputs": [
    {
     "name": "stdout",
     "output_type": "stream",
     "text": [
      "Howdy\n"
     ]
    }
   ],
   "source": [
    "#Answer\n",
    "\n",
    "spam=2\n",
    "\n",
    "if spam==1:\n",
    "    print(\"Hello\")\n",
    "    \n",
    "    \n",
    "elif spam==2:\n",
    "    print(\"Howdy\")\n",
    "\n",
    "else:\n",
    "    print(\"Greetings\")"
   ]
  },
  {
   "cell_type": "markdown",
   "id": "e4d43be8",
   "metadata": {},
   "source": [
    "9.If your programme is stuck in an endless loop, what keys you’ll press?\n",
    "\n",
    "Answer: Interrupt Kernel or Ctrl - C"
   ]
  },
  {
   "cell_type": "raw",
   "id": "44624e36",
   "metadata": {},
   "source": [
    "10. How can you tell the difference between break and continue?\n",
    "Answer: break terminates whole loop but continue skips current iteration of the loop"
   ]
  },
  {
   "cell_type": "raw",
   "id": "8376cc05",
   "metadata": {},
   "source": [
    "\n",
    "11. In a for loop, what is the difference between range(10), range(0, 10), and range(0, 10, 1)?\n",
    "Answer: No difeerence between range(10), range(0, 10), and range(0, 10, 1). Range takes (start, stop and step)\n"
   ]
  },
  {
   "cell_type": "markdown",
   "id": "717f5291",
   "metadata": {},
   "source": [
    "12. Write a short program that prints the numbers 1 to 10 using a for loop. Then write an equivalent\n",
    "program that prints the numbers 1 to 10 using a while loop."
   ]
  },
  {
   "cell_type": "code",
   "execution_count": 68,
   "id": "7d692ef4",
   "metadata": {},
   "outputs": [
    {
     "name": "stdout",
     "output_type": "stream",
     "text": [
      "0\n",
      "1\n",
      "2\n",
      "3\n",
      "4\n",
      "5\n",
      "6\n",
      "7\n",
      "8\n",
      "9\n",
      "1\n",
      "2\n",
      "3\n",
      "4\n",
      "5\n",
      "6\n",
      "7\n",
      "8\n",
      "9\n"
     ]
    }
   ],
   "source": [
    "#Answer:\n",
    "\n",
    "#For loop\n",
    "for i in range(10):\n",
    "    print(i)\n",
    "    \n",
    "i=1\n",
    "# while loop\n",
    "while i<10:\n",
    "    print(i)\n",
    "    i=i+1    \n"
   ]
  },
  {
   "cell_type": "markdown",
   "id": "005efbff",
   "metadata": {},
   "source": [
    "13. If you had a function named bacon() inside a module named spam, how would you call it after\n",
    "importing spam?\n",
    "\n",
    "Answer: We need to call spam.bacon()"
   ]
  },
  {
   "cell_type": "code",
   "execution_count": null,
   "id": "85c85afc",
   "metadata": {},
   "outputs": [],
   "source": []
  }
 ],
 "metadata": {
  "kernelspec": {
   "display_name": "Python 3 (ipykernel)",
   "language": "python",
   "name": "python3"
  },
  "language_info": {
   "codemirror_mode": {
    "name": "ipython",
    "version": 3
   },
   "file_extension": ".py",
   "mimetype": "text/x-python",
   "name": "python",
   "nbconvert_exporter": "python",
   "pygments_lexer": "ipython3",
   "version": "3.9.12"
  }
 },
 "nbformat": 4,
 "nbformat_minor": 5
}
